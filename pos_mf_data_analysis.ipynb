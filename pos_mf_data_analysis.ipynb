{
 "cells": [
  {
   "cell_type": "markdown",
   "metadata": {},
   "source": [
    "# Positive alpha mutual funds"
   ]
  },
  {
   "cell_type": "markdown",
   "metadata": {},
   "source": [
    "## TODO\n",
    "Get the names of all funds with positive alpha\n",
    "\n",
    "Do the same sector analysis with positive alpha "
   ]
  },
  {
   "cell_type": "code",
   "execution_count": 1,
   "metadata": {},
   "outputs": [
    {
     "name": "stdout",
     "output_type": "stream",
     "text": [
      "Total number of categories 20\n",
      "Total number of funds: 1698\n",
      "\n",
      "Mutual Fund Data\n"
     ]
    },
    {
     "name": "stderr",
     "output_type": "stream",
     "text": [
      "c:\\Users\\dklro\\Documents\\Fall 2023\\15.433\\15-4331-final-project\\tools.py:129: DtypeWarning: Columns (3,5) have mixed types. Specify dtype option on import or set low_memory=False.\n",
      "  data = pd.read_csv(\"data/mutual_funds/mutual_fund_data.csv\",skiprows=0).dropna(how='any')\n"
     ]
    },
    {
     "name": "stdout",
     "output_type": "stream",
     "text": [
      "Total number of rows: 408031\n",
      "Total number of funds with enough data: 1608\n",
      "Funds with no data: 25\n",
      "Funds with less than 5 years of data: 65\n",
      "Columns: Index(['ticker', 'date', 'total_net_assets', 'total_returns',\n",
      "       'net_asset_value', 'nav_return'],\n",
      "      dtype='object')\n",
      "\n",
      "Mutual Fund Data\n"
     ]
    },
    {
     "name": "stderr",
     "output_type": "stream",
     "text": [
      "c:\\Users\\dklro\\Documents\\Fall 2023\\15.433\\15-4331-final-project\\tools.py:129: DtypeWarning: Columns (3,5) have mixed types. Specify dtype option on import or set low_memory=False.\n",
      "  data = pd.read_csv(\"data/mutual_funds/mutual_fund_data.csv\",skiprows=0).dropna(how='any')\n"
     ]
    },
    {
     "name": "stdout",
     "output_type": "stream",
     "text": [
      "Total number of rows: 408031\n",
      "Total number of funds with enough data: 1608\n",
      "Funds with no data: 25\n",
      "Funds with less than 5 years of data: 65\n",
      "Columns: Index(['ticker', 'date', 'total_net_assets', 'total_returns',\n",
      "       'net_asset_value', 'nav_return'],\n",
      "      dtype='object')\n",
      "\n",
      "FF Data\n",
      "          date  Mkt-RF   SMB   HML   RMW   CMA    RF\n",
      "0   1963-07-31   -0.39 -0.41 -0.97  0.68 -1.18  0.27\n",
      "1   1963-08-31    5.07 -0.80  1.80  0.36 -0.35  0.25\n",
      "2   1963-09-30   -1.57 -0.52  0.13 -0.71  0.29  0.27\n",
      "3   1963-10-31    2.53 -1.39 -0.10  2.80 -2.01  0.29\n",
      "4   1963-11-30   -0.85 -0.88  1.75 -0.51  2.24  0.27\n",
      "..         ...     ...   ...   ...   ...   ...   ...\n",
      "719 2023-06-30    6.46  1.34 -0.26  2.18 -1.62  0.40\n",
      "720 2023-07-31    3.21  2.86  4.11 -0.57  0.57  0.45\n",
      "721 2023-08-31   -2.39 -3.65 -1.06  3.43 -2.37  0.45\n",
      "722 2023-09-30   -5.24 -1.80  1.52  1.86 -0.83  0.43\n",
      "723 2023-10-31   -3.18 -4.03  0.19  2.47 -0.66  0.47\n",
      "\n",
      "[724 rows x 7 columns]\n",
      "\n",
      "Bond Data\n",
      "Columns: Index(['date', '30 Year Bond Return', '30 Year Bond Index Level',\n",
      "       '20 Year Bond Return', '20 Year Bond Index Level',\n",
      "       '10 Year Bond Return', '10 Year Bond Index Level', '7 Year Bond Return',\n",
      "       '7 Year Bond Index Level', '5 Year Bond Return',\n",
      "       '5 Year Bond Index Level', '2 Year Bond Return',\n",
      "       '2 Year Bond Index Level', '1 Year Bond Return',\n",
      "       '1 Year Bond Index Level', '90 Day Bond Return',\n",
      "       '90 Day Bond Index Level', '30 Day Bond Return',\n",
      "       '30 Day Bond Index Level', 'CPI Return', 'CPI Index Level'],\n",
      "      dtype='object')\n",
      "\n",
      "Index Data\n",
      "Large Value : 539 months\n",
      "Large Blend : 341 months\n",
      "Large Growth : 539 months\n",
      "Mid-Cap Value : 455 months\n",
      "Mid-Cap Blend : 342 months\n",
      "Mid-Cap Growth : 455 months\n",
      "Small Value : 539 months\n",
      "Small Blend : 341 months\n",
      "Small Growth : 539 months\n",
      "Foreign Large Value : 276 months\n",
      "Foreign Large Blend : 275 months\n",
      "Foreign Large Growth : 276 months\n",
      "Foreign SmallMid Value : 163 months\n",
      "Foreign SmallMid Blend : 347 months\n",
      "Foreign SmallMid Growth : 163 months\n",
      "Diversified Emerging Mkts : 276 months\n",
      "Long-Term Bond : 575 months\n",
      "Intermediate Core Bond : 575 months\n",
      "Intermediate Core-Plus Bond : 407 months\n",
      "Short-Term Bond : 575 months\n",
      "Columns: Index(['Date', 'PX_LAST', 'Change', '% Change'], dtype='object')\n"
     ]
    }
   ],
   "source": [
    "from tools import get_mutual_fund_data, get_bond_data, get_ff_data, get_index_data\n",
    "import numpy as np\n",
    "import matplotlib.pyplot as plt\n",
    "import pandas as pd\n",
    "import statsmodels.api as sm\n",
    "from data_tools import capm, ff_3, ff_5, reg_date_range, capm_index, corr_index\n",
    "\n",
    "mf_dict = get_mutual_fund_data()\n",
    "ff_df = get_ff_data()\n",
    "bond_df = get_bond_data()\n",
    "index_dict = get_index_data()\n",
    "\n",
    "mf_types = list(mf_dict.keys())\n",
    "us_eq_data = {k[2]:[] for k in mf_dict.keys() if 'US Equity' in k}\n",
    "\n",
    "for mf_key, mf_val in mf_dict.items():\n",
    "    if mf_key[2] in us_eq_data.keys():\n",
    "        us_eq_data[mf_key[2]].append(mf_val)\n",
    "\n",
    "for idx, val in enumerate(us_eq_data['Mid-Cap Growth']):\n",
    "    if val['ticker'].iloc[0] == 'DEEVX':\n",
    "        del us_eq_data['Mid-Cap Growth'][idx]\n",
    "\n",
    "us_eq_alphas_c = []\n",
    "us_eq_alphas_std_c = []\n",
    "us_eq_betas_c = []\n",
    "for strat in us_eq_data.keys():\n",
    "    temp_alpha=[]\n",
    "    temp_beta=[]\n",
    "    for ticker in us_eq_data[strat]:\n",
    "        result = capm(ticker, ff_df)\n",
    "        if result == None:\n",
    "            continue\n",
    "        temp_alpha.append(result['const'])\n",
    "        temp_beta.append(result['Mkt-RF'])\n",
    "    us_eq_alphas_c.append(np.mean(temp_alpha))\n",
    "    us_eq_alphas_std_c.append(np.std(temp_alpha))\n",
    "    us_eq_betas_c.append(np.mean(temp_beta))\n",
    "\n",
    "us_index = {k[2]: v for k, v in index_dict.items() if 'US Equity' in k}\n",
    "\n",
    "us_idx_alphas_c = []\n",
    "us_idx_betas_c = []\n",
    "us_idx_alphas_std_c = []\n",
    "for strat in us_eq_data.keys():\n",
    "    temp_alpha=[]\n",
    "    temp_beta=[]\n",
    "    for ticker in us_eq_data[strat]:\n",
    "        start_date = ff_df['date'][0] if ff_df['date'][0] > ticker['date'][1] else ticker['date'][1]\n",
    "        start_date = start_date if start_date > us_index[strat]['Date'][1] else us_index[strat]['Date'][1]\n",
    "        end_date = ticker['date'].iloc[-1]\n",
    "        result = capm_index(ticker, ff_df, us_index[strat], start_date, end_date)\n",
    "        if result == None:\n",
    "            continue\n",
    "        temp_alpha.append(result['const'])\n",
    "        temp_beta.append(result['beta'])\n",
    "    us_idx_alphas_c.append(np.mean(temp_alpha))\n",
    "    us_idx_betas_c.append(np.mean(temp_beta))\n",
    "    us_idx_alphas_std_c.append(np.std(temp_alpha))\n",
    "\n",
    "ind_alphas_c = []\n",
    "ind_betas_c = []\n",
    "fund_tickers = []\n",
    "\n",
    "for strat in us_eq_data.keys():\n",
    "    temp_alpha=[]\n",
    "    temp_beta=[]\n",
    "    temp_tickers = []\n",
    "    for ticker in us_eq_data[strat]:\n",
    "        result = capm(ticker, ff_df)\n",
    "        if result == None:\n",
    "            continue\n",
    "        temp_alpha.append(result['const'])\n",
    "        temp_beta.append(result['Mkt-RF'])\n",
    "        temp_tickers.append(ticker['ticker'].iloc[0])\n",
    "    ind_alphas_c.append(temp_alpha)\n",
    "    ind_betas_c.append(temp_beta)\n",
    "    fund_tickers.append(temp_tickers)\n",
    "\n",
    "ind_idx_alphas_c = []\n",
    "ind_idx_betas_c = []\n",
    "fund_tickers_idx = []\n",
    "ind_corr = []\n",
    "for strat in us_eq_data.keys():\n",
    "    temp_alpha=[]\n",
    "    temp_beta=[]\n",
    "    temp_tickers=[]\n",
    "    temp_corr=[]\n",
    "    for ticker in us_eq_data[strat]:\n",
    "        start_date = ff_df['date'][0] if ff_df['date'][0] > ticker['date'][1] else ticker['date'][1]\n",
    "        start_date = start_date if start_date > us_index[strat]['Date'][1] else us_index[strat]['Date'][1]\n",
    "        end_date = ticker['date'].iloc[-1]\n",
    "        result = capm_index(ticker, ff_df, us_index[strat], start_date, end_date)\n",
    "        if result == None:\n",
    "            continue\n",
    "        temp_alpha.append(result['const'])\n",
    "        temp_beta.append(result['beta'])\n",
    "        temp_tickers.append(ticker['ticker'].iloc[0])\n",
    "        temp_corr.append(corr_index(ticker, us_index[strat], start_date, end_date))\n",
    "    ind_idx_alphas_c.append(temp_alpha)\n",
    "    ind_idx_betas_c.append(temp_beta)\n",
    "    fund_tickers_idx.append(temp_tickers)\n",
    "    ind_corr.append(temp_corr)\n",
    "\n",
    "\n",
    "ind_alphas_5 = []\n",
    "ind_betas_5 = []\n",
    "ind_smbs_5 = []\n",
    "ind_hmls_5 = []\n",
    "ind_rmws_5 = []\n",
    "ind_cmas_5 = []\n",
    "for strat in us_eq_data.keys():\n",
    "    temp_alpha=[]\n",
    "    temp_beta=[]\n",
    "    temp_smb = []\n",
    "    temp_hml = []\n",
    "    temp_rmw = []\n",
    "    temp_cma = []\n",
    "    for ticker in us_eq_data[strat]:\n",
    "        start_date = ff_df['date'][0] if ff_df['date'][0] > ticker['date'][1] else ticker['date'][1]\n",
    "        end_date = ticker['date'].iloc[-1]\n",
    "        result = reg_date_range(ticker, ff_df, ['Mkt-RF', 'SMB', 'HML', 'RMW', 'CMA'], start_date, end_date)\n",
    "        if result == None:\n",
    "            continue\n",
    "        temp_alpha.append(result['const'])\n",
    "        temp_beta.append(result['Mkt-RF'])\n",
    "        temp_smb.append(result['SMB'])\n",
    "        temp_hml.append(result['HML'])\n",
    "        temp_rmw.append(result['RMW'])\n",
    "        temp_cma.append(result['CMA'])\n",
    "    ind_alphas_5.append(temp_alpha)\n",
    "    ind_betas_5.append(temp_beta)\n",
    "    ind_smbs_5.append(temp_smb)\n",
    "    ind_hmls_5.append(temp_hml)\n",
    "    ind_rmws_5.append(temp_rmw)\n",
    "    ind_cmas_5.append(temp_cma)"
   ]
  },
  {
   "cell_type": "code",
   "execution_count": 47,
   "metadata": {},
   "outputs": [],
   "source": [
    "dict_pos_c_idx = {}\n",
    "dict_pos_c = {}\n",
    "dict_pos_bench_idx = {}\n",
    "dict_pos_bench = {}\n",
    "dict_pos_5_idx = {}\n",
    "dict_pos_5 = {}\n",
    "\n",
    "num_to_name = {\n",
    "    0: 'Large Value',\n",
    "    1: 'Large Blend',\n",
    "    2: 'Large Growth',\n",
    "    3: 'Mid-Cap Value',\n",
    "    4: 'Mid-Cap Blend',\n",
    "    5: 'Mid-Cap Growth',\n",
    "    6: 'Small Value',\n",
    "    7: 'Small Blend',\n",
    "    8: 'Small Growth'\n",
    "}\n",
    "\n",
    "name_to_num = {\n",
    "    'Large Value': 0,\n",
    "    'Large Blend': 1,\n",
    "    'Large Growth': 2,\n",
    "    'Mid-Cap Value': 3,\n",
    "    'Mid-Cap Blend': 4,\n",
    "    'Mid-Cap Growth': 5,\n",
    "    'Small Value': 6,\n",
    "    'Small Blend': 7,\n",
    "    'Small Growth': 8\n",
    "}\n",
    "\n",
    "pos_c_data = []\n",
    "pos_bench_data = []\n",
    "pos_5_data = []\n",
    "neg_c_data = []\n",
    "neg_bench_data = []\n",
    "neg_5_data = []\n",
    "\n",
    "for j in range(9):\n",
    "    pos_c_idx = [idx for idx, val in enumerate(ind_alphas_c[j]) if val > 0]\n",
    "    pos_c = [fund_tickers[j][i] for i in pos_c_idx]\n",
    "    dict_pos_c_idx[num_to_name[j]] = pos_c_idx\n",
    "    dict_pos_c[num_to_name[j]] = pos_c\n",
    "    for mf in us_eq_data[num_to_name[j]]:\n",
    "        if mf['ticker'].iloc[0] in pos_c:\n",
    "            pos_c_data.append(mf) \n",
    "        else:\n",
    "            neg_c_data.append(mf)\n",
    "\n",
    "    pos_bench_idx = [idx for idx, val in enumerate(ind_idx_alphas_c[j]) if val > 0]\n",
    "    pos_bench = [fund_tickers_idx[j][i] for i in pos_bench_idx]\n",
    "    dict_pos_bench_idx[num_to_name[j]] = pos_bench_idx\n",
    "    dict_pos_bench[num_to_name[j]] = pos_bench\n",
    "    for mf in us_eq_data[num_to_name[j]]:\n",
    "        if mf['ticker'].iloc[0] in pos_bench:\n",
    "            pos_bench_data.append(mf)\n",
    "        else:\n",
    "            neg_bench_data.append(mf)\n",
    "\n",
    "    pos_5_idx = [idx for idx, val in enumerate(ind_alphas_5[j]) if val > 0]\n",
    "    pos_5 = [fund_tickers[j][i] for i in pos_5_idx]\n",
    "    dict_pos_5_idx[num_to_name[j]] = pos_5_idx\n",
    "    dict_pos_5[num_to_name[j]] = pos_5\n",
    "    for mf in us_eq_data[num_to_name[j]]:\n",
    "        if mf['ticker'].iloc[0] in pos_5:\n",
    "            pos_5_data.append(mf) \n",
    "        else:\n",
    "            neg_5_data.append(mf)"
   ]
  },
  {
   "cell_type": "code",
   "execution_count": 18,
   "metadata": {},
   "outputs": [
    {
     "name": "stdout",
     "output_type": "stream",
     "text": [
      "Below we list all the funds that have positive alpha within our different frameworks\n",
      "CAPM: {'Large Value': [], 'Large Blend': [], 'Large Growth': ['AKRIX', 'AKREX', 'BAWAX', 'BIAWX'], 'Mid-Cap Value': [], 'Mid-Cap Blend': [], 'Mid-Cap Growth': ['ETGLX', 'LIACX'], 'Small Value': ['AVALX'], 'Small Blend': [], 'Small Growth': []}\n",
      "CAPM on benchmark: {'Large Value': ['NPNCX'], 'Large Blend': [], 'Large Growth': ['AKRIX', 'AKREX'], 'Mid-Cap Value': ['FTVSX', 'FTVNX'], 'Mid-Cap Blend': ['TMPIX'], 'Mid-Cap Growth': ['ETGLX', 'LCLAX', 'VMACX', 'VMCCX', 'VIMCX', 'VKSIX'], 'Small Value': [], 'Small Blend': ['SZCIX', 'RPMFX'], 'Small Growth': ['NBGNX', 'NBGEX', 'FKAIX', 'WGROX', 'BCSIX', 'PSCCX', 'PNSCX', 'WBSIX', 'DNSMX', 'DVSMX', 'OBSIX']}\n",
      "5-factor: {'Large Value': [], 'Large Blend': ['HCACX'], 'Large Growth': ['VHIAX', 'AKRIX', 'AKREX', 'BAWAX', 'BIAWX'], 'Mid-Cap Value': [], 'Mid-Cap Blend': [], 'Mid-Cap Growth': ['JAENX', 'CMGIX', 'ETAGX', 'ETILX', 'ETGLX', 'LCLAX', 'LIACX', 'VKSIX'], 'Small Value': [], 'Small Blend': [], 'Small Growth': ['FKAIX', 'DNSMX', 'DVSMX']}\n"
     ]
    }
   ],
   "source": [
    "print('Below we list all the funds that have positive alpha within our different frameworks')\n",
    "print(f'CAPM: {dict_pos_c}')\n",
    "print(f'CAPM on benchmark: {dict_pos_bench}')\n",
    "print(f'5-factor: {dict_pos_5}')"
   ]
  },
  {
   "cell_type": "markdown",
   "metadata": {},
   "source": [
    "## CAPM"
   ]
  },
  {
   "cell_type": "code",
   "execution_count": 36,
   "metadata": {},
   "outputs": [
    {
     "name": "stdout",
     "output_type": "stream",
     "text": [
      "CAPM positive alpha: ['AKRIX', 'AKREX', 'BAWAX', 'BIAWX', 'ETGLX', 'LIACX', 'AVALX']\n",
      "Average positive beta: 0.9515758331023729 with a stdev of 0.09197080529118955\n",
      "Average negative beta: 1.0371443107981861 with a stdev of 0.13607698356710402\n"
     ]
    }
   ],
   "source": [
    "alpha=[]\n",
    "pos_beta=[]\n",
    "for ticker in pos_c_data:\n",
    "    result = capm(ticker, ff_df)\n",
    "    if result == None:\n",
    "        continue\n",
    "    alpha.append(result['const'])\n",
    "    pos_beta.append(result['Mkt-RF'])\n",
    "\n",
    "pos_names_c = [item for sublist in list(dict_pos_c.values()) for item in sublist]\n",
    "print(f'CAPM positive alpha: {pos_names_c}')\n",
    "\n",
    "neg_beta=[]\n",
    "for ticker in neg_c_data:\n",
    "    result = capm(ticker, ff_df)\n",
    "    if result == None:\n",
    "        continue\n",
    "    neg_beta.append(result['Mkt-RF'])\n",
    "\n",
    "print(f'Average positive beta: {np.mean(pos_beta)} with a stdev of {np.std(pos_beta)}')\n",
    "print(f'Average negative beta: {np.mean(neg_beta)} with a stdev of {np.std(neg_beta)}')"
   ]
  },
  {
   "cell_type": "code",
   "execution_count": 37,
   "metadata": {},
   "outputs": [
    {
     "data": {
      "image/png": "[encoded data removed]",
      "text/plain": [
       "<Figure size 640x480 with 2 Axes>"
      ]
     },
     "metadata": {},
     "output_type": "display_data"
    }
   ],
   "source": [
    "fig, (ax1, ax2) = plt.subplots(nrows=1, ncols=2)\n",
    "ax1.bar(pos_names_c, alpha)\n",
    "ax2.bar(pos_names_c, pos_beta)\n",
    "fig.autofmt_xdate(rotation=45)\n",
    "ax1.set_title('Alpha')\n",
    "ax2.set_title('Beta')\n",
    "plt.show()"
   ]
  },
  {
   "cell_type": "markdown",
   "metadata": {},
   "source": [
    "## Benchmark"
   ]
  },
  {
   "cell_type": "code",
   "execution_count": 81,
   "metadata": {},
   "outputs": [
    {
     "name": "stdout",
     "output_type": "stream",
     "text": [
      "Benchmark CAPM positive alpha: ['NPNCX', 'AKRIX', 'AKREX', 'FTVSX', 'FTVNX', 'TMPIX', 'ETGLX', 'LCLAX', 'VMACX', 'VMCCX', 'VIMCX', 'VKSIX', 'SZCIX', 'RPMFX', 'NBGNX', 'NBGEX', 'FKAIX', 'WGROX', 'BCSIX', 'PSCCX', 'PNSCX', 'WBSIX', 'DNSMX', 'DVSMX', 'OBSIX']\n",
      "Average positive beta: 0.8902094004177568 with a stdev of 0.12806420574435173\n",
      "Average negative beta: 0.9527566727808111 with a stdev of 0.10023166360179182\n",
      "Average positive correlation: 0.8608699499777847 w/ stdev of 0.15497777608486296\n",
      "Average positive correlation: 0.8843788999748504 w/ stdev of 0.07190827462791687\n"
     ]
    }
   ],
   "source": [
    "alpha=[]\n",
    "pos_beta=[]\n",
    "pos_corr=[]\n",
    "for ticker in pos_bench_data:\n",
    "    strat = [i for i in dict_pos_bench if ticker['ticker'].iloc[0] in dict_pos_bench[i]]\n",
    "    # strat = name_to_num[index_name[0]]\n",
    "    strat = strat[0]\n",
    "\n",
    "    start_date = ff_df['date'][0] if ff_df['date'][0] > ticker['date'][1] else ticker['date'][1]\n",
    "    start_date = start_date if start_date > us_index[strat]['Date'][1] else us_index[strat]['Date'][1]\n",
    "    end_date = ticker['date'].iloc[-1]\n",
    "    result = capm_index(ticker, ff_df, us_index[strat], start_date, end_date)\n",
    "    if result == None:\n",
    "        continue\n",
    "    pos_corr.append(corr_index(ticker, us_index[strat], start_date, end_date))\n",
    "    alpha.append(result['const'])\n",
    "    pos_beta.append(result['beta'])\n",
    "\n",
    "pos_names_bench = [item for sublist in list(dict_pos_bench.values()) for item in sublist]\n",
    "print(f'Benchmark CAPM positive alpha: {pos_names_bench}')\n",
    "\n",
    "print(f'Average positive beta: {np.mean(pos_beta)} with a stdev of {np.std(pos_beta)}')\n",
    "\n",
    "neg_beta = (np.sum([item for sublist in ind_idx_betas_c for item in sublist]) - len(pos_names_bench) * np.mean(pos_beta) \n",
    "            )/ (len([item for sublist in ind_idx_alphas_c for item in sublist]) - len(pos_names_bench))\n",
    "print(f'Average negative beta: {neg_beta} with a stdev of {np.std([item for sublist in ind_idx_betas_c for item in sublist])}')\n",
    "\n",
    "print(f'Average positive correlation: {np.mean(pos_corr)} w/ stdev of {np.std(pos_corr)}')\n",
    "print(f'Average positive correlation: {np.mean([item for sublist in ind_corr for item in sublist])} w/ stdev of {np.std([item for sublist in ind_corr for item in sublist])}')"
   ]
  },
  {
   "cell_type": "code",
   "execution_count": 63,
   "metadata": {},
   "outputs": [
    {
     "data": {
      "image/png": "[encoded data removed]",
      "text/plain": [
       "<Figure size 1500x600 with 2 Axes>"
      ]
     },
     "metadata": {},
     "output_type": "display_data"
    }
   ],
   "source": [
    "fig, (ax1, ax2) = plt.subplots(nrows=1, ncols=2, figsize=(15,6))\n",
    "ax1.bar(pos_names_bench, alpha)\n",
    "ax2.bar(pos_names_bench, pos_beta)\n",
    "fig.autofmt_xdate(rotation=45)\n",
    "ax1.set_title('Alpha')\n",
    "ax2.set_title('Beta')\n",
    "plt.show()"
   ]
  }
 ],
 "metadata": {
  "kernelspec": {
   "display_name": "p364b",
   "language": "python",
   "name": "python3"
  },
  "language_info": {
   "codemirror_mode": {
    "name": "ipython",
    "version": 3
   },
   "file_extension": ".py",
   "mimetype": "text/x-python",
   "name": "python",
   "nbconvert_exporter": "python",
   "pygments_lexer": "ipython3",
   "version": "3.10.13"
  }
 },
 "nbformat": 4,
 "nbformat_minor": 2
}
